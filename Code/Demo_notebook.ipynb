{
 "cells": [
  {
   "cell_type": "markdown",
   "id": "c6494db8-9ae0-4324-9fcc-c7b8a64d6522",
   "metadata": {},
   "source": [
    "# Efficient Quantum Kernel Evaluation Demo\n",
    "In this notebook we create a 4x4 symmetric fidelity quantum kernel where every entry is calculated by a 2 qubits circuit. We run our code both on a simulator and on a real QPU to demonstrate our Efficient Quantum Kernel Evaluation implementation."
   ]
  },
  {
   "cell_type": "code",
   "execution_count": null,
   "id": "8344c36f",
   "metadata": {},
   "outputs": [],
   "source": [
    "from qiskit_ibm_runtime import QiskitRuntimeService\n",
    "from qiskit_ibm_runtime import Session, SamplerV2\n",
    "import numpy as np\n",
    "from qiskit.circuit.library import ZZFeatureMap\n",
    "from qiskit.providers.fake_provider import GenericBackendV2\n",
    "from qiskit.transpiler.preset_passmanagers import generate_preset_pass_manager   \n",
    "from qiskit_machine_learning.state_fidelities import ComputeUncompute    \n"
   ]
  },
  {
   "cell_type": "code",
   "execution_count": 7,
   "id": "87e858c0",
   "metadata": {},
   "outputs": [],
   "source": [
    "#we import our efficient implemetation of the FidelityQuantumKernel which is compatible with the qiskit-machine-learning implementation\n",
    "\n",
    "from fidelity_quantum_kernel_efficient import FidelityQuantumKernel "
   ]
  },
  {
   "cell_type": "markdown",
   "id": "5c29da49",
   "metadata": {},
   "source": [
    "We now create a dataset which will be used to to evaluate the kernel"
   ]
  },
  {
   "cell_type": "code",
   "execution_count": 4,
   "id": "7f1b9d44",
   "metadata": {},
   "outputs": [],
   "source": [
    "num_features = 2         #this is the dimensionality of every point in the dataset \n",
    "#we map every feature to a qubit in the fidelity quantum circuit used to compute each kernel entry. \n",
    "#Therefore, num_features is also the number of qubits used by the fidelity circuit.\n",
    "number_of_points = 4\n",
    "\n",
    "#create data\n",
    "np.random.seed(seed=123)\n",
    "X = np.random.uniform(-np.pi/2, np.pi/2, size = (number_of_points,num_features))"
   ]
  },
  {
   "cell_type": "markdown",
   "id": "b1eea384",
   "metadata": {},
   "source": [
    "We coonect to the qiskit runtime service to both a simulator and a real QPU. We then create a feature map which will be used to compute the fidelity and create an instance "
   ]
  },
  {
   "cell_type": "code",
   "execution_count": 9,
   "id": "372e0fc7",
   "metadata": {},
   "outputs": [],
   "source": [
    "service = QiskitRuntimeService()\n",
    "\n",
    "#connection to a real backend\n",
    "backend_QPU = service.least_busy(simulator=False, operational=True)  # to select the least busy quantum machine available\n",
    "num_qubits_backend_QPU = backend_QPU.num_qubits\n",
    "session_QPU = Session(backend=backend_QPU)\n",
    "pass_manager_QPU = generate_preset_pass_manager(optimization_level=1, backend=backend_QPU)\n",
    "sampler_QPU = SamplerV2(mode=session_QPU)\n",
    "\n",
    "#connection to a simulator\n",
    "num_qubits_backend_sim = 20\n",
    "backend_sim = GenericBackendV2(num_qubits=num_qubits_backend_sim, seed = 1)                         \n",
    "session_sim = Session(backend=backend_sim)\n",
    "pass_manager_sim = generate_preset_pass_manager(optimization_level=1, backend=backend_sim)\n",
    "sampler_sim = SamplerV2(mode=session_sim)\n",
    "\n",
    "\n",
    "#define a feature map \n",
    "feature_map = ZZFeatureMap(feature_dimension=num_features, reps=1, entanglement='linear')"
   ]
  },
  {
   "cell_type": "markdown",
   "id": "9914e240",
   "metadata": {},
   "source": [
    "In order to evaluate the kernel on the data one simply needs to call the .evaluate method (identical to the qiskit-machine-learning implementation) or the .evaluate_efficient method, which will parallelize the fidelity circuits runs when running on a real QPU. "
   ]
  },
  {
   "cell_type": "code",
   "execution_count": null,
   "id": "480aed64",
   "metadata": {},
   "outputs": [
    {
     "name": "stderr",
     "output_type": "stream",
     "text": [
      "c:\\Users\\melch\\.conda\\envs\\qpu_demo\\Lib\\site-packages\\qiskit\\providers\\fake_provider\\generic_backend_v2.py:506: RuntimeWarning: Aer not found using BasicSimulator and no noise\n",
      "  warnings.warn(\"Aer not found using BasicSimulator and no noise\", RuntimeWarning)\n"
     ]
    },
    {
     "name": "stdout",
     "output_type": "stream",
     "text": [
      "[[1.         0.29101562 0.0390625  0.30175781]\n",
      " [0.29101562 1.         0.04296875 0.09472656]\n",
      " [0.0390625  0.04296875 1.         0.26074219]\n",
      " [0.30175781 0.09472656 0.26074219 1.        ]]\n"
     ]
    }
   ],
   "source": [
    "# CASE 1, efficient implementation on a simulator\n",
    "\n",
    "fidelity_efficient_sim = ComputeUncompute(sampler=sampler_sim)\n",
    "qkernel_efficient_sim = FidelityQuantumKernel(feature_map = feature_map, fidelity = fidelity_efficient_sim)\n",
    "kernel_matrix_efficient_sim = qkernel_efficient_sim.evaluate_efficient(X, backend_sim, pass_manager = pass_manager_sim, shots = 1024)\n",
    "\n",
    "print(kernel_matrix_efficient_sim)\n"
   ]
  },
  {
   "cell_type": "code",
   "execution_count": null,
   "id": "0504e5a3",
   "metadata": {},
   "outputs": [
    {
     "name": "stdout",
     "output_type": "stream",
     "text": [
      "[[1.         0.31640625 0.02929688 0.23828125]\n",
      " [0.31640625 1.         0.11621094 0.078125  ]\n",
      " [0.02929688 0.11621094 1.         0.31152344]\n",
      " [0.23828125 0.078125   0.31152344 1.        ]]\n"
     ]
    }
   ],
   "source": [
    "# CASE 2, efficient implementation on a QPU\n",
    "\n",
    "fidelity_efficient_QPU = ComputeUncompute(sampler=sampler_QPU)\n",
    "qkernel_efficient_QPU = FidelityQuantumKernel(feature_map = feature_map, fidelity = fidelity_efficient_QPU)\n",
    "kernel_matrix_efficient_QPU = qkernel_efficient_QPU.evaluate_efficient(X, backend_QPU, pass_manager = pass_manager_QPU, shots = 1024)\n",
    "\n",
    "print(kernel_matrix_efficient_QPU)  \n",
    "\n",
    "#NOTE: this run used 1 second and 1 job on  ibm_sherbrooke"
   ]
  },
  {
   "cell_type": "code",
   "execution_count": 11,
   "id": "4b8b69eb",
   "metadata": {},
   "outputs": [
    {
     "name": "stderr",
     "output_type": "stream",
     "text": [
      "c:\\Users\\melch\\.conda\\envs\\qpu_demo\\Lib\\site-packages\\qiskit\\providers\\fake_provider\\generic_backend_v2.py:506: RuntimeWarning: Aer not found using BasicSimulator and no noise\n",
      "  warnings.warn(\"Aer not found using BasicSimulator and no noise\", RuntimeWarning)\n"
     ]
    },
    {
     "name": "stdout",
     "output_type": "stream",
     "text": [
      "[[1.         0.30957031 0.05664063 0.3359375 ]\n",
      " [0.30957031 1.         0.0234375  0.08886719]\n",
      " [0.05664063 0.0234375  1.         0.26367188]\n",
      " [0.3359375  0.08886719 0.26367188 1.        ]]\n"
     ]
    }
   ],
   "source": [
    "# CASE 3, standard implementation on a simulator\n",
    "\n",
    "\n",
    "fidelity_sim = ComputeUncompute(sampler=sampler_sim,  pass_manager=pass_manager_sim)\n",
    "qkernel_sim = FidelityQuantumKernel(feature_map = feature_map, fidelity = fidelity_sim)\n",
    "kernel_matrix_sim = qkernel_sim.evaluate(X)\n",
    "\n",
    "print(kernel_matrix_sim)"
   ]
  },
  {
   "cell_type": "code",
   "execution_count": null,
   "id": "7f72e87a",
   "metadata": {},
   "outputs": [
    {
     "name": "stdout",
     "output_type": "stream",
     "text": [
      "[[1.         0.29199219 0.03295898 0.29370117]\n",
      " [0.29199219 1.         0.08935547 0.09057617]\n",
      " [0.03295898 0.08935547 1.         0.24731445]\n",
      " [0.29370117 0.09057617 0.24731445 1.        ]]\n"
     ]
    }
   ],
   "source": [
    "# CASE 4, standard implementation on a QPU\n",
    "\n",
    "fidelity_QPU = ComputeUncompute(sampler=sampler_QPU,  pass_manager=pass_manager_QPU)\n",
    "qkernel_QPU = FidelityQuantumKernel(feature_map = feature_map, fidelity = fidelity_QPU)\n",
    "kernel_matrix_QPU = qkernel_QPU.evaluate(X)\n",
    "\n",
    "print(kernel_matrix_QPU)\n",
    "\n",
    "#NOTE: this run used 8 seconds and 6 jobs on  ibm_sherbrooke"
   ]
  },
  {
   "cell_type": "code",
   "execution_count": null,
   "id": "0f940bbd",
   "metadata": {},
   "outputs": [],
   "source": []
  }
 ],
 "metadata": {
  "kernelspec": {
   "display_name": "Python 3",
   "language": "python",
   "name": "python3"
  },
  "language_info": {
   "codemirror_mode": {
    "name": "ipython",
    "version": 3
   },
   "file_extension": ".py",
   "mimetype": "text/x-python",
   "name": "python",
   "nbconvert_exporter": "python",
   "pygments_lexer": "ipython3",
   "version": "3.11.11"
  }
 },
 "nbformat": 4,
 "nbformat_minor": 5
}
